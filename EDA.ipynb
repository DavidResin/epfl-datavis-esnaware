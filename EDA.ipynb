{
 "cells": [
  {
   "cell_type": "markdown",
   "metadata": {},
   "source": [
    "# 1. Libraries & Data Loading"
   ]
  },
  {
   "cell_type": "code",
   "execution_count": 20,
   "metadata": {},
   "outputs": [],
   "source": [
    "import pandas as pd\n",
    "import numpy as np\n",
    "import matplotlib.pyplot as plt"
   ]
  },
  {
   "cell_type": "code",
   "execution_count": 101,
   "metadata": {},
   "outputs": [],
   "source": [
    "df = pd.read_pickle(\"data/df_data.pkl\")"
   ]
  },
  {
   "cell_type": "code",
   "execution_count": 102,
   "metadata": {},
   "outputs": [
    {
     "data": {
      "text/html": [
       "<div>\n",
       "<style scoped>\n",
       "    .dataframe tbody tr th:only-of-type {\n",
       "        vertical-align: middle;\n",
       "    }\n",
       "\n",
       "    .dataframe tbody tr th {\n",
       "        vertical-align: top;\n",
       "    }\n",
       "\n",
       "    .dataframe thead th {\n",
       "        text-align: right;\n",
       "    }\n",
       "</style>\n",
       "<table border=\"1\" class=\"dataframe\">\n",
       "  <thead>\n",
       "    <tr style=\"text-align: right;\">\n",
       "      <th></th>\n",
       "      <th>Title</th>\n",
       "      <th>Category</th>\n",
       "      <th>Links</th>\n",
       "      <th>Text</th>\n",
       "    </tr>\n",
       "  </thead>\n",
       "  <tbody>\n",
       "    <tr>\n",
       "      <th>0</th>\n",
       "      <td>Climate emergency declaration</td>\n",
       "      <td>Global_warming</td>\n",
       "      <td>[Aachen, Acri, Adam Bandt, Adelaide, Alexandri...</td>\n",
       "      <td>A climate emergency declaration or declaring a...</td>\n",
       "    </tr>\n",
       "    <tr>\n",
       "      <th>1</th>\n",
       "      <td>Global warming</td>\n",
       "      <td>Global_warming</td>\n",
       "      <td>[Abrupt climate change, Absorption (electromag...</td>\n",
       "      <td>Global warming is the mainly human-caused rise...</td>\n",
       "    </tr>\n",
       "    <tr>\n",
       "      <th>2</th>\n",
       "      <td>Shared Socioeconomic Pathways</td>\n",
       "      <td>Global_warming</td>\n",
       "      <td>[Abrupt climate change, Albedo, Anoxic event, ...</td>\n",
       "      <td>Shared Socioeconomic Pathways (SSPs) are scena...</td>\n",
       "    </tr>\n",
       "    <tr>\n",
       "      <th>3</th>\n",
       "      <td>Glossary of climate change</td>\n",
       "      <td>Global_warming</td>\n",
       "      <td>[100,000-year problem, 20th parallel north, 37...</td>\n",
       "      <td>This glossary of climate change is a list of d...</td>\n",
       "    </tr>\n",
       "    <tr>\n",
       "      <th>4</th>\n",
       "      <td>Index of climate change articles</td>\n",
       "      <td>Global_warming</td>\n",
       "      <td>[100% renewable energy, 100,000-year problem, ...</td>\n",
       "      <td>This is a list of climate change topics.\\n\\n0-...</td>\n",
       "    </tr>\n",
       "  </tbody>\n",
       "</table>\n",
       "</div>"
      ],
      "text/plain": [
       "                              Title        Category  \\\n",
       "0     Climate emergency declaration  Global_warming   \n",
       "1                    Global warming  Global_warming   \n",
       "2     Shared Socioeconomic Pathways  Global_warming   \n",
       "3        Glossary of climate change  Global_warming   \n",
       "4  Index of climate change articles  Global_warming   \n",
       "\n",
       "                                               Links  \\\n",
       "0  [Aachen, Acri, Adam Bandt, Adelaide, Alexandri...   \n",
       "1  [Abrupt climate change, Absorption (electromag...   \n",
       "2  [Abrupt climate change, Albedo, Anoxic event, ...   \n",
       "3  [100,000-year problem, 20th parallel north, 37...   \n",
       "4  [100% renewable energy, 100,000-year problem, ...   \n",
       "\n",
       "                                                Text  \n",
       "0  A climate emergency declaration or declaring a...  \n",
       "1  Global warming is the mainly human-caused rise...  \n",
       "2  Shared Socioeconomic Pathways (SSPs) are scena...  \n",
       "3  This glossary of climate change is a list of d...  \n",
       "4  This is a list of climate change topics.\\n\\n0-...  "
      ]
     },
     "execution_count": 102,
     "metadata": {},
     "output_type": "execute_result"
    }
   ],
   "source": [
    "df.head()"
   ]
  },
  {
   "cell_type": "markdown",
   "metadata": {},
   "source": [
    "# 2. Data Cleaning"
   ]
  },
  {
   "cell_type": "code",
   "execution_count": 103,
   "metadata": {},
   "outputs": [
    {
     "data": {
      "text/plain": [
       "False"
      ]
     },
     "execution_count": 103,
     "metadata": {},
     "output_type": "execute_result"
    }
   ],
   "source": [
    "df['Title'].is_unique"
   ]
  },
  {
   "cell_type": "markdown",
   "metadata": {},
   "source": [
    "This means that some articles belong to several categories and will therefore need to be grouped"
   ]
  },
  {
   "cell_type": "code",
   "execution_count": 104,
   "metadata": {},
   "outputs": [],
   "source": [
    "df = df.groupby('Title').agg(list).reset_index()\n",
    "df['Links'] = df['Links'].apply(np.unique)\n",
    "df['Text'] = df['Text'].apply(lambda x: list(set(x))[0])"
   ]
  },
  {
   "cell_type": "code",
   "execution_count": 79,
   "metadata": {},
   "outputs": [
    {
     "data": {
      "text/html": [
       "<div>\n",
       "<style scoped>\n",
       "    .dataframe tbody tr th:only-of-type {\n",
       "        vertical-align: middle;\n",
       "    }\n",
       "\n",
       "    .dataframe tbody tr th {\n",
       "        vertical-align: top;\n",
       "    }\n",
       "\n",
       "    .dataframe thead th {\n",
       "        text-align: right;\n",
       "    }\n",
       "</style>\n",
       "<table border=\"1\" class=\"dataframe\">\n",
       "  <thead>\n",
       "    <tr style=\"text-align: right;\">\n",
       "      <th></th>\n",
       "      <th>Title</th>\n",
       "      <th>Category</th>\n",
       "      <th>Links</th>\n",
       "      <th>Text</th>\n",
       "    </tr>\n",
       "  </thead>\n",
       "  <tbody>\n",
       "    <tr>\n",
       "      <th>0</th>\n",
       "      <td>1,1,1,2,3,3,3-Heptafluoropropane</td>\n",
       "      <td>[Fire suppression agents]</td>\n",
       "      <td>[1,1,1,2,2,3,3-Heptachloropropane, 1,1,1,2,3,3...</td>\n",
       "      <td>1,1,1,2,3,3,3-Heptafluoropropane, also called ...</td>\n",
       "    </tr>\n",
       "    <tr>\n",
       "      <th>1</th>\n",
       "      <td>1,1,1,3,3,3-Hexafluoropropane</td>\n",
       "      <td>[Fire suppression agents]</td>\n",
       "      <td>[1,1,1,3,3,3-Hexafluoropropane (data page), 1,...</td>\n",
       "      <td>1,1,1,3,3,3-Hexafluoropropane is an organic ch...</td>\n",
       "    </tr>\n",
       "    <tr>\n",
       "      <th>2</th>\n",
       "      <td>1,1-Dichloroethane</td>\n",
       "      <td>[Fire suppression agents]</td>\n",
       "      <td>[1,1,1-Trichloroethane, 1,1-Dichloroethane (da...</td>\n",
       "      <td>1,1-Dichloroethane is a chlorinated hydrocarbo...</td>\n",
       "    </tr>\n",
       "    <tr>\n",
       "      <th>3</th>\n",
       "      <td>100 First Plaza</td>\n",
       "      <td>[Leadership in Energy and Environmental Design...</td>\n",
       "      <td>[100 Montgomery Street, 100 Pine Center, 100 V...</td>\n",
       "      <td>100 First Plaza (also known as the Delta Denta...</td>\n",
       "    </tr>\n",
       "    <tr>\n",
       "      <th>4</th>\n",
       "      <td>100 North Tampa</td>\n",
       "      <td>[Leadership in Energy and Environmental Design...</td>\n",
       "      <td>[AmSouth Bancorporation, American Internationa...</td>\n",
       "      <td>100 North Tampa, formerly known as the Regions...</td>\n",
       "    </tr>\n",
       "  </tbody>\n",
       "</table>\n",
       "</div>"
      ],
      "text/plain": [
       "                              Title  \\\n",
       "0  1,1,1,2,3,3,3-Heptafluoropropane   \n",
       "1     1,1,1,3,3,3-Hexafluoropropane   \n",
       "2                1,1-Dichloroethane   \n",
       "3                   100 First Plaza   \n",
       "4                   100 North Tampa   \n",
       "\n",
       "                                            Category  \\\n",
       "0                          [Fire suppression agents]   \n",
       "1                          [Fire suppression agents]   \n",
       "2                          [Fire suppression agents]   \n",
       "3  [Leadership in Energy and Environmental Design...   \n",
       "4  [Leadership in Energy and Environmental Design...   \n",
       "\n",
       "                                               Links  \\\n",
       "0  [1,1,1,2,2,3,3-Heptachloropropane, 1,1,1,2,3,3...   \n",
       "1  [1,1,1,3,3,3-Hexafluoropropane (data page), 1,...   \n",
       "2  [1,1,1-Trichloroethane, 1,1-Dichloroethane (da...   \n",
       "3  [100 Montgomery Street, 100 Pine Center, 100 V...   \n",
       "4  [AmSouth Bancorporation, American Internationa...   \n",
       "\n",
       "                                                Text  \n",
       "0  1,1,1,2,3,3,3-Heptafluoropropane, also called ...  \n",
       "1  1,1,1,3,3,3-Hexafluoropropane is an organic ch...  \n",
       "2  1,1-Dichloroethane is a chlorinated hydrocarbo...  \n",
       "3  100 First Plaza (also known as the Delta Denta...  \n",
       "4  100 North Tampa, formerly known as the Regions...  "
      ]
     },
     "execution_count": 79,
     "metadata": {},
     "output_type": "execute_result"
    }
   ],
   "source": [
    "df.head()"
   ]
  },
  {
   "cell_type": "code",
   "execution_count": 61,
   "metadata": {},
   "outputs": [
    {
     "name": "stdout",
     "output_type": "stream",
     "text": [
      "Number of unique articles: 6229\n"
     ]
    }
   ],
   "source": [
    "print(\"Number of unique articles:\", len(df))"
   ]
  },
  {
   "cell_type": "markdown",
   "metadata": {},
   "source": [
    "# 3. Data Exploration"
   ]
  },
  {
   "cell_type": "markdown",
   "metadata": {},
   "source": [
    "## Links"
   ]
  },
  {
   "cell_type": "code",
   "execution_count": 62,
   "metadata": {
    "scrolled": false
   },
   "outputs": [
    {
     "data": {
      "text/plain": [
       "Text(0.5, 1.0, 'Histogram of the number of Wikipedia links in a Wikipedia page')"
      ]
     },
     "execution_count": 62,
     "metadata": {},
     "output_type": "execute_result"
    },
    {
     "data": {
      "image/png": "[encoded data removed]",
      "text/plain": [
       "<Figure size 576x432 with 1 Axes>"
      ]
     },
     "metadata": {
      "needs_background": "light"
     },
     "output_type": "display_data"
    }
   ],
   "source": [
    "fig = plt.figure(figsize=(8,6))\n",
    "num_links = df['Links'].apply(len)\n",
    "num_links.hist(bins=50)\n",
    "plt.xlabel(\"Number of links\")\n",
    "plt.ylabel(\"Count\")\n",
    "plt.title(\"Histogram of the number of Wikipedia links in a Wikipedia page\")"
   ]
  },
  {
   "cell_type": "code",
   "execution_count": 63,
   "metadata": {},
   "outputs": [
    {
     "data": {
      "text/plain": [
       "Text(0.5, 1.0, 'Histogram of the number of Wikipedia links in a Wikipedia page')"
      ]
     },
     "execution_count": 63,
     "metadata": {},
     "output_type": "execute_result"
    },
    {
     "data": {
      "image/png": "[encoded data removed]",
      "text/plain": [
       "<Figure size 432x288 with 1 Axes>"
      ]
     },
     "metadata": {
      "needs_background": "light"
     },
     "output_type": "display_data"
    }
   ],
   "source": [
    "num_links.hist(bins=50)\n",
    "plt.yscale('log')\n",
    "plt.xlabel(\"Number of links\")\n",
    "plt.ylabel(\"Log-Count\")\n",
    "plt.title(\"Histogram of the number of Wikipedia links in a Wikipedia page\")"
   ]
  },
  {
   "cell_type": "markdown",
   "metadata": {},
   "source": [
    "From the first plot, we could already see that the number of links is right-skewed."
   ]
  },
  {
   "cell_type": "code",
   "execution_count": 64,
   "metadata": {},
   "outputs": [
    {
     "data": {
      "text/plain": [
       "count    6229.000000\n",
       "mean      123.545513\n",
       "std       174.293001\n",
       "min         2.000000\n",
       "25%        24.000000\n",
       "50%        56.000000\n",
       "75%       150.000000\n",
       "max      2287.000000\n",
       "Name: Links, dtype: float64"
      ]
     },
     "execution_count": 64,
     "metadata": {},
     "output_type": "execute_result"
    }
   ],
   "source": [
    "num_links.describe()"
   ]
  },
  {
   "cell_type": "markdown",
   "metadata": {},
   "source": [
    "Several similarity measures can be applied here, one of them is the Jaccard similarity applied to the links in each page."
   ]
  },
  {
   "cell_type": "code",
   "execution_count": 65,
   "metadata": {},
   "outputs": [],
   "source": [
    "def jaccard_similarity(list1, list2):\n",
    "    s1 = set(list1)\n",
    "    s2 = set(list2)\n",
    "    return len(s1.intersection(s2)) / len(s1.union(s2))"
   ]
  },
  {
   "cell_type": "markdown",
   "metadata": {},
   "source": [
    "## Categories"
   ]
  },
  {
   "cell_type": "code",
   "execution_count": 68,
   "metadata": {},
   "outputs": [],
   "source": [
    "categories = np.unique(df['Category'].sum())"
   ]
  },
  {
   "cell_type": "code",
   "execution_count": 69,
   "metadata": {},
   "outputs": [
    {
     "data": {
      "text/plain": [
       "683"
      ]
     },
     "execution_count": 69,
     "metadata": {},
     "output_type": "execute_result"
    }
   ],
   "source": [
    "len(categories)"
   ]
  },
  {
   "cell_type": "markdown",
   "metadata": {},
   "source": [
    "## Text"
   ]
  },
  {
   "cell_type": "code",
   "execution_count": 70,
   "metadata": {},
   "outputs": [],
   "source": [
    "len_texts = df['Text'].apply(len)"
   ]
  },
  {
   "cell_type": "code",
   "execution_count": 71,
   "metadata": {},
   "outputs": [
    {
     "data": {
      "image/png": "[encoded data removed]",
      "text/plain": [
       "<Figure size 576x432 with 1 Axes>"
      ]
     },
     "metadata": {
      "needs_background": "light"
     },
     "output_type": "display_data"
    }
   ],
   "source": [
    "fig = plt.figure(figsize=(8,6))\n",
    "len_texts.hist(bins=50)\n",
    "plt.xlabel(\"Length of text\")\n",
    "plt.ylabel(\"Count\")\n",
    "plt.title(\"Histogram of the length of Wikipedia pages\")\n",
    "plt.show()"
   ]
  },
  {
   "cell_type": "code",
   "execution_count": 72,
   "metadata": {},
   "outputs": [
    {
     "data": {
      "image/png": "[encoded data removed]",
      "text/plain": [
       "<Figure size 432x288 with 1 Axes>"
      ]
     },
     "metadata": {
      "needs_background": "light"
     },
     "output_type": "display_data"
    }
   ],
   "source": [
    "plt.boxplot(len_texts)\n",
    "plt.show()"
   ]
  },
  {
   "cell_type": "code",
   "execution_count": null,
   "metadata": {},
   "outputs": [],
   "source": []
  }
 ],
 "metadata": {
  "kernelspec": {
   "display_name": "Python [conda env:dataviz] *",
   "language": "python",
   "name": "conda-env-dataviz-py"
  },
  "language_info": {
   "codemirror_mode": {
    "name": "ipython",
    "version": 3
   },
   "file_extension": ".py",
   "mimetype": "text/x-python",
   "name": "python",
   "nbconvert_exporter": "python",
   "pygments_lexer": "ipython3",
   "version": "3.8.2"
  }
 },
 "nbformat": 4,
 "nbformat_minor": 4
}
