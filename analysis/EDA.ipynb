{
 "cells": [
  {
   "cell_type": "markdown",
   "metadata": {},
   "source": [
    "# 1. Libraries & Data Loading"
   ]
  },
  {
   "cell_type": "code",
   "execution_count": 1,
   "metadata": {},
   "outputs": [],
   "source": [
    "import json\n",
    "\n",
    "import pandas as pd\n",
    "import numpy as np\n",
    "import networkx as nx\n",
    "import matplotlib.pyplot as plt"
   ]
  },
  {
   "cell_type": "code",
   "execution_count": 3,
   "metadata": {},
   "outputs": [],
   "source": [
    "depth = 12\n",
    "df = pd.read_json(f\"../data/wikipedia_depth_{depth}.json\").rename(columns={'Category': 'Path'})\n",
    "df['Category'] = df['Path'].apply(lambda x: x[-1])"
   ]
  },
  {
   "cell_type": "code",
   "execution_count": 4,
   "metadata": {
    "scrolled": true
   },
   "outputs": [
    {
     "data": {
      "text/html": [
       "<div>\n",
       "<style scoped>\n",
       "    .dataframe tbody tr th:only-of-type {\n",
       "        vertical-align: middle;\n",
       "    }\n",
       "\n",
       "    .dataframe tbody tr th {\n",
       "        vertical-align: top;\n",
       "    }\n",
       "\n",
       "    .dataframe thead th {\n",
       "        text-align: right;\n",
       "    }\n",
       "</style>\n",
       "<table border=\"1\" class=\"dataframe\">\n",
       "  <thead>\n",
       "    <tr style=\"text-align: right;\">\n",
       "      <th></th>\n",
       "      <th>Title</th>\n",
       "      <th>Path</th>\n",
       "      <th>Links</th>\n",
       "      <th>Text</th>\n",
       "      <th>Category</th>\n",
       "    </tr>\n",
       "  </thead>\n",
       "  <tbody>\n",
       "    <tr>\n",
       "      <th>0</th>\n",
       "      <td>Climate emergency declaration</td>\n",
       "      <td>[Global_warming]</td>\n",
       "      <td>[Aachen, Acri, Adam Bandt, Adelaide, Alexandri...</td>\n",
       "      <td>A climate emergency declaration or declaring a...</td>\n",
       "      <td>Global_warming</td>\n",
       "    </tr>\n",
       "    <tr>\n",
       "      <th>1</th>\n",
       "      <td>Global warming</td>\n",
       "      <td>[Global_warming]</td>\n",
       "      <td>[Abrupt climate change, Absorption (electromag...</td>\n",
       "      <td>Global warming is the mainly human-caused rise...</td>\n",
       "      <td>Global_warming</td>\n",
       "    </tr>\n",
       "    <tr>\n",
       "      <th>2</th>\n",
       "      <td>Shared Socioeconomic Pathways</td>\n",
       "      <td>[Global_warming]</td>\n",
       "      <td>[Abrupt climate change, Albedo, Anoxic event, ...</td>\n",
       "      <td>Shared Socioeconomic Pathways (SSPs) are scena...</td>\n",
       "      <td>Global_warming</td>\n",
       "    </tr>\n",
       "    <tr>\n",
       "      <th>3</th>\n",
       "      <td>Glossary of climate change</td>\n",
       "      <td>[Global_warming]</td>\n",
       "      <td>[100,000-year problem, 20th parallel north, 37...</td>\n",
       "      <td>This glossary of climate change is a list of d...</td>\n",
       "      <td>Global_warming</td>\n",
       "    </tr>\n",
       "    <tr>\n",
       "      <th>4</th>\n",
       "      <td>Index of climate change articles</td>\n",
       "      <td>[Global_warming]</td>\n",
       "      <td>[100% renewable energy, 100,000-year problem, ...</td>\n",
       "      <td>This is a list of climate change topics.\\n\\n0-...</td>\n",
       "      <td>Global_warming</td>\n",
       "    </tr>\n",
       "  </tbody>\n",
       "</table>\n",
       "</div>"
      ],
      "text/plain": [
       "                              Title              Path  \\\n",
       "0     Climate emergency declaration  [Global_warming]   \n",
       "1                    Global warming  [Global_warming]   \n",
       "2     Shared Socioeconomic Pathways  [Global_warming]   \n",
       "3        Glossary of climate change  [Global_warming]   \n",
       "4  Index of climate change articles  [Global_warming]   \n",
       "\n",
       "                                               Links  \\\n",
       "0  [Aachen, Acri, Adam Bandt, Adelaide, Alexandri...   \n",
       "1  [Abrupt climate change, Absorption (electromag...   \n",
       "2  [Abrupt climate change, Albedo, Anoxic event, ...   \n",
       "3  [100,000-year problem, 20th parallel north, 37...   \n",
       "4  [100% renewable energy, 100,000-year problem, ...   \n",
       "\n",
       "                                                Text        Category  \n",
       "0  A climate emergency declaration or declaring a...  Global_warming  \n",
       "1  Global warming is the mainly human-caused rise...  Global_warming  \n",
       "2  Shared Socioeconomic Pathways (SSPs) are scena...  Global_warming  \n",
       "3  This glossary of climate change is a list of d...  Global_warming  \n",
       "4  This is a list of climate change topics.\\n\\n0-...  Global_warming  "
      ]
     },
     "execution_count": 4,
     "metadata": {},
     "output_type": "execute_result"
    }
   ],
   "source": [
    "df.head()"
   ]
  },
  {
   "cell_type": "markdown",
   "metadata": {},
   "source": [
    "# 2. Data Cleaning"
   ]
  },
  {
   "cell_type": "code",
   "execution_count": 5,
   "metadata": {},
   "outputs": [
    {
     "data": {
      "text/plain": [
       "False"
      ]
     },
     "execution_count": 5,
     "metadata": {},
     "output_type": "execute_result"
    }
   ],
   "source": [
    "df['Title'].is_unique"
   ]
  },
  {
   "cell_type": "markdown",
   "metadata": {},
   "source": [
    "This means that some articles belong to several categories and will therefore need to be grouped"
   ]
  },
  {
   "cell_type": "code",
   "execution_count": 6,
   "metadata": {},
   "outputs": [],
   "source": [
    "flatten = lambda l: [item for sublist in l for item in sublist]"
   ]
  },
  {
   "cell_type": "code",
   "execution_count": 7,
   "metadata": {},
   "outputs": [],
   "source": [
    "df_unique = df.groupby('Title').agg(list).reset_index()\n",
    "df_unique['Links'] = df_unique['Links'].apply(flatten).apply(np.unique)\n",
    "df_unique['Text'] = df_unique['Text'].apply(lambda x: list(set(x))[0])"
   ]
  },
  {
   "cell_type": "code",
   "execution_count": 8,
   "metadata": {
    "scrolled": true
   },
   "outputs": [
    {
     "data": {
      "text/html": [
       "<div>\n",
       "<style scoped>\n",
       "    .dataframe tbody tr th:only-of-type {\n",
       "        vertical-align: middle;\n",
       "    }\n",
       "\n",
       "    .dataframe tbody tr th {\n",
       "        vertical-align: top;\n",
       "    }\n",
       "\n",
       "    .dataframe thead th {\n",
       "        text-align: right;\n",
       "    }\n",
       "</style>\n",
       "<table border=\"1\" class=\"dataframe\">\n",
       "  <thead>\n",
       "    <tr style=\"text-align: right;\">\n",
       "      <th></th>\n",
       "      <th>Title</th>\n",
       "      <th>Path</th>\n",
       "      <th>Links</th>\n",
       "      <th>Text</th>\n",
       "      <th>Category</th>\n",
       "    </tr>\n",
       "  </thead>\n",
       "  <tbody>\n",
       "    <tr>\n",
       "      <th>0</th>\n",
       "      <td>1,1,1,2-Tetrafluoroethane</td>\n",
       "      <td>[[Global_warming, Greenhouse gases]]</td>\n",
       "      <td>[(-)-5-(1,3-Dimethylbutyl)-5-ethylbarbituric a...</td>\n",
       "      <td>1,1,1,2-Tetrafluoroethane (also known as norfl...</td>\n",
       "      <td>[Greenhouse gases]</td>\n",
       "    </tr>\n",
       "    <tr>\n",
       "      <th>1</th>\n",
       "      <td>1,1,1-Trichloro-2,2,2-trifluoroethane</td>\n",
       "      <td>[[Global_warming, Greenhouse gases]]</td>\n",
       "      <td>[1,1,1-Trichloro-2,2,2-trifluoroethane (data p...</td>\n",
       "      <td>Trichlorotrifluoroethane, also called 1,1,1-Tr...</td>\n",
       "      <td>[Greenhouse gases]</td>\n",
       "    </tr>\n",
       "    <tr>\n",
       "      <th>2</th>\n",
       "      <td>1,1,1-Trichloroethane</td>\n",
       "      <td>[[Global_warming, Greenhouse gases]]</td>\n",
       "      <td>[(-)-5-(1,3-Dimethylbutyl)-5-ethylbarbituric a...</td>\n",
       "      <td>The organic compound 1,1,1-trichloroethane, al...</td>\n",
       "      <td>[Greenhouse gases]</td>\n",
       "    </tr>\n",
       "    <tr>\n",
       "      <th>3</th>\n",
       "      <td>1,1,2-Trichloro-1,2,2-trifluoroethane</td>\n",
       "      <td>[[Global_warming, Greenhouse gases]]</td>\n",
       "      <td>[1,1,1-Trichloro-2,2,2-trifluoroethane, 1,1,1-...</td>\n",
       "      <td>1,1,2-Trichloro-1,2,2-trifluoroethane, also ca...</td>\n",
       "      <td>[Greenhouse gases]</td>\n",
       "    </tr>\n",
       "    <tr>\n",
       "      <th>4</th>\n",
       "      <td>1,1-Dichloro-1-fluoroethane</td>\n",
       "      <td>[[Global_warming, Greenhouse gases]]</td>\n",
       "      <td>[1,1-Dichloro-1-fluoroethane (data page), Aque...</td>\n",
       "      <td>1,1-Dichloro-1-fluoroethane is a haloalkane wi...</td>\n",
       "      <td>[Greenhouse gases]</td>\n",
       "    </tr>\n",
       "  </tbody>\n",
       "</table>\n",
       "</div>"
      ],
      "text/plain": [
       "                                   Title  \\\n",
       "0              1,1,1,2-Tetrafluoroethane   \n",
       "1  1,1,1-Trichloro-2,2,2-trifluoroethane   \n",
       "2                  1,1,1-Trichloroethane   \n",
       "3  1,1,2-Trichloro-1,2,2-trifluoroethane   \n",
       "4            1,1-Dichloro-1-fluoroethane   \n",
       "\n",
       "                                   Path  \\\n",
       "0  [[Global_warming, Greenhouse gases]]   \n",
       "1  [[Global_warming, Greenhouse gases]]   \n",
       "2  [[Global_warming, Greenhouse gases]]   \n",
       "3  [[Global_warming, Greenhouse gases]]   \n",
       "4  [[Global_warming, Greenhouse gases]]   \n",
       "\n",
       "                                               Links  \\\n",
       "0  [(-)-5-(1,3-Dimethylbutyl)-5-ethylbarbituric a...   \n",
       "1  [1,1,1-Trichloro-2,2,2-trifluoroethane (data p...   \n",
       "2  [(-)-5-(1,3-Dimethylbutyl)-5-ethylbarbituric a...   \n",
       "3  [1,1,1-Trichloro-2,2,2-trifluoroethane, 1,1,1-...   \n",
       "4  [1,1-Dichloro-1-fluoroethane (data page), Aque...   \n",
       "\n",
       "                                                Text            Category  \n",
       "0  1,1,1,2-Tetrafluoroethane (also known as norfl...  [Greenhouse gases]  \n",
       "1  Trichlorotrifluoroethane, also called 1,1,1-Tr...  [Greenhouse gases]  \n",
       "2  The organic compound 1,1,1-trichloroethane, al...  [Greenhouse gases]  \n",
       "3  1,1,2-Trichloro-1,2,2-trifluoroethane, also ca...  [Greenhouse gases]  \n",
       "4  1,1-Dichloro-1-fluoroethane is a haloalkane wi...  [Greenhouse gases]  "
      ]
     },
     "execution_count": 8,
     "metadata": {},
     "output_type": "execute_result"
    }
   ],
   "source": [
    "df_unique.head()"
   ]
  },
  {
   "cell_type": "code",
   "execution_count": 9,
   "metadata": {},
   "outputs": [
    {
     "name": "stdout",
     "output_type": "stream",
     "text": [
      "Number of unique articles: 25593\n"
     ]
    }
   ],
   "source": [
    "print(\"Number of unique articles:\", len(df_unique))"
   ]
  },
  {
   "cell_type": "code",
   "execution_count": 10,
   "metadata": {},
   "outputs": [
    {
     "data": {
      "text/plain": [
       "True"
      ]
     },
     "execution_count": 10,
     "metadata": {},
     "output_type": "execute_result"
    }
   ],
   "source": [
    "df_unique['Title'].is_unique"
   ]
  },
  {
   "cell_type": "code",
   "execution_count": 11,
   "metadata": {},
   "outputs": [],
   "source": [
    "df_subset = df_unique"
   ]
  },
  {
   "cell_type": "code",
   "execution_count": 20,
   "metadata": {},
   "outputs": [],
   "source": [
    "subset = ['Methane', 'Extinction Rebellion', 'Fuel taxes', 'Hydraulic fracturing', 'Exxonmobil', 'Gazprom', \n",
    "          'Self-sustainability', 'Industrial ecology', 'Ecovillages', 'Eco-towns', 'Wildlife smuggling', \n",
    "          'Urban forestry', 'Biofuels', 'Sustainable gardening', 'Animal waste products', 'Oil platform disasters',\n",
    "          'Coal phase-out', 'Climate change denial', 'Building energy rating', 'Active fire protection', \n",
    "          'Industrial minerals', 'Composting', 'Reforestation']"
   ]
  },
  {
   "cell_type": "code",
   "execution_count": 22,
   "metadata": {},
   "outputs": [],
   "source": [
    "subset = [w.lower() for w in subset]"
   ]
  },
  {
   "cell_type": "code",
   "execution_count": 23,
   "metadata": {},
   "outputs": [],
   "source": [
    "df_subset = df[df['Category'].map(lambda x: x.lower()).isin(subset)]"
   ]
  },
  {
   "cell_type": "code",
   "execution_count": 24,
   "metadata": {},
   "outputs": [
    {
     "data": {
      "text/plain": [
       "(937, 5)"
      ]
     },
     "execution_count": 24,
     "metadata": {},
     "output_type": "execute_result"
    }
   ],
   "source": [
    "df_subset.shape"
   ]
  },
  {
   "cell_type": "markdown",
   "metadata": {},
   "source": [
    "# 3. Data Exploration"
   ]
  },
  {
   "cell_type": "markdown",
   "metadata": {},
   "source": [
    "## Links"
   ]
  },
  {
   "cell_type": "code",
   "execution_count": 25,
   "metadata": {
    "scrolled": false
   },
   "outputs": [
    {
     "data": {
      "text/plain": [
       "Text(0.5, 1.0, 'Histogram of the number of Wikipedia links in a Wikipedia page')"
      ]
     },
     "execution_count": 25,
     "metadata": {},
     "output_type": "execute_result"
    },
    {
     "data": {
      "image/png": "[encoded data removed]",
      "text/plain": [
       "<Figure size 576x432 with 1 Axes>"
      ]
     },
     "metadata": {
      "needs_background": "light"
     },
     "output_type": "display_data"
    }
   ],
   "source": [
    "fig = plt.figure(figsize=(8,6))\n",
    "num_links = df_subset['Links'].apply(len)\n",
    "num_links.hist(bins=50)\n",
    "plt.xlabel(\"Number of links\")\n",
    "plt.ylabel(\"Count\")\n",
    "plt.title(\"Histogram of the number of Wikipedia links in a Wikipedia page\")"
   ]
  },
  {
   "cell_type": "code",
   "execution_count": 26,
   "metadata": {},
   "outputs": [
    {
     "data": {
      "text/plain": [
       "Text(0.5, 1.0, 'Histogram of the number of Wikipedia links in a Wikipedia page')"
      ]
     },
     "execution_count": 26,
     "metadata": {},
     "output_type": "execute_result"
    },
    {
     "data": {
      "image/png": "[encoded data removed]",
      "text/plain": [
       "<Figure size 432x288 with 1 Axes>"
      ]
     },
     "metadata": {
      "needs_background": "light"
     },
     "output_type": "display_data"
    }
   ],
   "source": [
    "num_links.hist(bins=50)\n",
    "plt.yscale('log')\n",
    "plt.xlabel(\"Number of links\")\n",
    "plt.ylabel(\"Log-Count\")\n",
    "plt.title(\"Histogram of the number of Wikipedia links in a Wikipedia page\")"
   ]
  },
  {
   "cell_type": "markdown",
   "metadata": {},
   "source": [
    "From the first plot, we could already see that the number of links is right-skewed."
   ]
  },
  {
   "cell_type": "code",
   "execution_count": 27,
   "metadata": {},
   "outputs": [
    {
     "data": {
      "text/plain": [
       "count     937.000000\n",
       "mean      196.589114\n",
       "std       242.796252\n",
       "min         4.000000\n",
       "25%        36.000000\n",
       "50%        97.000000\n",
       "75%       263.000000\n",
       "max      1943.000000\n",
       "Name: Links, dtype: float64"
      ]
     },
     "execution_count": 27,
     "metadata": {},
     "output_type": "execute_result"
    }
   ],
   "source": [
    "num_links.describe()"
   ]
  },
  {
   "cell_type": "markdown",
   "metadata": {},
   "source": [
    "## Categories"
   ]
  },
  {
   "cell_type": "code",
   "execution_count": 28,
   "metadata": {},
   "outputs": [],
   "source": [
    "categories = np.unique(df_subset['Category']).tolist()"
   ]
  },
  {
   "cell_type": "code",
   "execution_count": 29,
   "metadata": {},
   "outputs": [
    {
     "name": "stdout",
     "output_type": "stream",
     "text": [
      "Number of unique categories: 23\n"
     ]
    }
   ],
   "source": [
    "print(\"Number of unique categories:\", len(categories))"
   ]
  },
  {
   "cell_type": "code",
   "execution_count": 17,
   "metadata": {},
   "outputs": [],
   "source": [
    "levels = []\n",
    "\n",
    "for level in range(depth):\n",
    "    levels.append([x[level] for x in categories if len(x) == level+1])"
   ]
  },
  {
   "cell_type": "code",
   "execution_count": 18,
   "metadata": {},
   "outputs": [
    {
     "ename": "FileNotFoundError",
     "evalue": "[Errno 2] No such file or directory: 'data/categories_per_level_12.json'",
     "output_type": "error",
     "traceback": [
      "\u001b[0;31m---------------------------------------------------------------------------\u001b[0m",
      "\u001b[0;31mFileNotFoundError\u001b[0m                         Traceback (most recent call last)",
      "\u001b[0;32m<ipython-input-18-f859ad76315c>\u001b[0m in \u001b[0;36m<module>\u001b[0;34m\u001b[0m\n\u001b[0;32m----> 1\u001b[0;31m \u001b[0;32mwith\u001b[0m \u001b[0mopen\u001b[0m\u001b[0;34m(\u001b[0m\u001b[0;34mf\"data/categories_per_level_{depth}.json\"\u001b[0m\u001b[0;34m,\u001b[0m \u001b[0;34m\"w+\"\u001b[0m\u001b[0;34m,\u001b[0m \u001b[0mencoding\u001b[0m\u001b[0;34m=\u001b[0m\u001b[0;34m'utf-8'\u001b[0m\u001b[0;34m)\u001b[0m \u001b[0;32mas\u001b[0m \u001b[0mf\u001b[0m\u001b[0;34m:\u001b[0m\u001b[0;34m\u001b[0m\u001b[0m\n\u001b[0m\u001b[1;32m      2\u001b[0m     \u001b[0mjson\u001b[0m\u001b[0;34m.\u001b[0m\u001b[0mdump\u001b[0m\u001b[0;34m(\u001b[0m\u001b[0mlevels\u001b[0m\u001b[0;34m,\u001b[0m \u001b[0mf\u001b[0m\u001b[0;34m,\u001b[0m \u001b[0mensure_ascii\u001b[0m\u001b[0;34m=\u001b[0m\u001b[0;32mFalse\u001b[0m\u001b[0;34m,\u001b[0m \u001b[0mindent\u001b[0m\u001b[0;34m=\u001b[0m\u001b[0;36m4\u001b[0m\u001b[0;34m)\u001b[0m\u001b[0;34m\u001b[0m\u001b[0m\n",
      "\u001b[0;31mFileNotFoundError\u001b[0m: [Errno 2] No such file or directory: 'data/categories_per_level_12.json'"
     ]
    }
   ],
   "source": [
    "with open(f\"../data/categories_per_level_{depth}.json\", \"w+\", encoding='utf-8') as f:\n",
    "    json.dump(levels, f, ensure_ascii=False, indent=4)"
   ]
  },
  {
   "cell_type": "markdown",
   "metadata": {},
   "source": [
    "## Text"
   ]
  },
  {
   "cell_type": "code",
   "execution_count": 30,
   "metadata": {},
   "outputs": [],
   "source": [
    "len_texts = df_subset['Text'].apply(len)"
   ]
  },
  {
   "cell_type": "code",
   "execution_count": 31,
   "metadata": {},
   "outputs": [
    {
     "data": {
      "image/png": "[encoded data removed]",
      "text/plain": [
       "<Figure size 576x432 with 1 Axes>"
      ]
     },
     "metadata": {
      "needs_background": "light"
     },
     "output_type": "display_data"
    }
   ],
   "source": [
    "fig = plt.figure(figsize=(8,6))\n",
    "len_texts.hist(bins=50)\n",
    "plt.xlabel(\"Length of text\")\n",
    "plt.ylabel(\"Count\")\n",
    "plt.title(\"Histogram of the length of Wikipedia pages\")\n",
    "plt.show()"
   ]
  },
  {
   "cell_type": "code",
   "execution_count": 32,
   "metadata": {},
   "outputs": [
    {
     "data": {
      "image/png": "[encoded data removed]",
      "text/plain": [
       "<Figure size 432x288 with 1 Axes>"
      ]
     },
     "metadata": {
      "needs_background": "light"
     },
     "output_type": "display_data"
    }
   ],
   "source": [
    "plt.boxplot(len_texts)\n",
    "plt.show()"
   ]
  },
  {
   "cell_type": "code",
   "execution_count": null,
   "metadata": {},
   "outputs": [],
   "source": []
  }
 ],
 "metadata": {
  "kernelspec": {
   "display_name": "Python [conda env:dataviz] *",
   "language": "python",
   "name": "conda-env-dataviz-py"
  },
  "language_info": {
   "codemirror_mode": {
    "name": "ipython",
    "version": 3
   },
   "file_extension": ".py",
   "mimetype": "text/x-python",
   "name": "python",
   "nbconvert_exporter": "python",
   "pygments_lexer": "ipython3",
   "version": "3.7.0"
  }
 },
 "nbformat": 4,
 "nbformat_minor": 4
}
