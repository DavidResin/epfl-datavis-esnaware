{
 "cells": [
  {
   "cell_type": "code",
   "execution_count": 4,
   "metadata": {},
   "outputs": [],
   "source": [
    "import pandas as pd\n",
    "import numpy as np"
   ]
  },
  {
   "cell_type": "code",
   "execution_count": 5,
   "metadata": {},
   "outputs": [],
   "source": [
    "df_subset = pd.read_pickle(\"../data/df_subset.pkl\")"
   ]
  },
  {
   "cell_type": "code",
   "execution_count": 6,
   "metadata": {},
   "outputs": [],
   "source": [
    "def jaccard_similarity(list1, list2):\n",
    "    try:\n",
    "        s1 = set(list1)\n",
    "        s2 = set(list2)\n",
    "    except:\n",
    "        print(list1)\n",
    "        print(list2)\n",
    "    return len(s1.intersection(s2)) / len(s1.union(s2))"
   ]
  },
  {
   "cell_type": "code",
   "execution_count": 7,
   "metadata": {},
   "outputs": [],
   "source": [
    "df_links = df_subset[['Title', 'Links']].sort_values(by=['Title']).reset_index().drop(columns='index')"
   ]
  },
  {
   "cell_type": "markdown",
   "metadata": {},
   "source": [
    "## Spark"
   ]
  },
  {
   "cell_type": "code",
   "execution_count": 8,
   "metadata": {},
   "outputs": [],
   "source": [
    "import pyspark\n",
    "import pyspark.sql\n",
    "from pyspark.sql import *\n",
    "from pyspark.sql.functions import *\n",
    "\n",
    "conf = pyspark.SparkConf().setMaster(\"local[*]\").setAll([\n",
    "                                   ('spark.executor.memory', '12g'),  # find\n",
    "                                   ('spark.driver.memory','4g'), # your\n",
    "                                   ('spark.driver.maxResultSize', '2G') # setup\n",
    "                                  ])\n",
    "# create the session\n",
    "spark = SparkSession.builder.config(conf=conf).getOrCreate()\n",
    "\n",
    "# create the context\n",
    "sc = spark.sparkContext\n",
    "\n",
    "# FIX for Spark 2.x\n",
    "locale = sc._jvm.java.util.Locale\n",
    "locale.setDefault(locale.forLanguageTag(\"en-US\"))"
   ]
  },
  {
   "cell_type": "code",
   "execution_count": 9,
   "metadata": {},
   "outputs": [],
   "source": [
    "spark_df = spark.createDataFrame(df_links)"
   ]
  },
  {
   "cell_type": "code",
   "execution_count": 10,
   "metadata": {},
   "outputs": [
    {
     "name": "stdout",
     "output_type": "stream",
     "text": [
      "+-----------------+--------------------+--------------------+--------------------+\n",
      "|            Title|               Links|              Title2|              Links2|\n",
      "+-----------------+--------------------+--------------------+--------------------+\n",
      "|2,5-Dimethylfuran|[2,5-Dimethylfura...|   2,5-Dimethylfuran|[2,5-Dimethylfura...|\n",
      "|2,5-Dimethylfuran|[2,5-Dimethylfura...|       2-Methylfuran|[2-Methylfuran (d...|\n",
      "|2,5-Dimethylfuran|[2,5-Dimethylfura...|2007–08 world foo...|[2000s commoditie...|\n",
      "|2,5-Dimethylfuran|[2,5-Dimethylfura...|ASEAN Wildlife En...|[ASEAN, ASEAN Cen...|\n",
      "|2,5-Dimethylfuran|[2,5-Dimethylfura...|   Accuracy in Media|[2012 Benghazi at...|\n",
      "|2,5-Dimethylfuran|[2,5-Dimethylfura...|Active fire prote...|[Access control, ...|\n",
      "|2,5-Dimethylfuran|[2,5-Dimethylfura...|Adrian Berry, 4th...|[Adrian Douglas B...|\n",
      "|2,5-Dimethylfuran|[2,5-Dimethylfura...|Aerated static pi...|[Aeration, Anaero...|\n",
      "|2,5-Dimethylfuran|[2,5-Dimethylfura...|Aerobic methane p...|[Anaerobic respir...|\n",
      "|2,5-Dimethylfuran|[2,5-Dimethylfura...|       Afforestation|[3D scanner, Acac...|\n",
      "|2,5-Dimethylfuran|[2,5-Dimethylfura...|Afforestation in ...|[Abies sachalinen...|\n",
      "|2,5-Dimethylfuran|[2,5-Dimethylfura...|African Wildlife ...|[10,000,000 (numb...|\n",
      "|2,5-Dimethylfuran|[2,5-Dimethylfura...| Aggregate (geology)|[Aggregate (disam...|\n",
      "|2,5-Dimethylfuran|[2,5-Dimethylfura...|Alan Jones (radio...|[1978 New South W...|\n",
      "|2,5-Dimethylfuran|[2,5-Dimethylfura...|          Alan Rudge|[Alain Townsend, ...|\n",
      "|2,5-Dimethylfuran|[2,5-Dimethylfura...|        Alcohol fuel|[Acetaldehyde, Al...|\n",
      "|2,5-Dimethylfuran|[2,5-Dimethylfura...|Alex Epstein (Ame...|[Alex Epstein (di...|\n",
      "|2,5-Dimethylfuran|[2,5-Dimethylfura...|          Alex Jones|[2011 Tucson shoo...|\n",
      "|2,5-Dimethylfuran|[2,5-Dimethylfura...|Alexander Tschugguel|[2020 coronavirus...|\n",
      "|2,5-Dimethylfuran|[2,5-Dimethylfura...|Alexis de Tocquev...|[501(c)(3), ACT! ...|\n",
      "+-----------------+--------------------+--------------------+--------------------+\n",
      "only showing top 20 rows\n",
      "\n"
     ]
    }
   ],
   "source": [
    "spark_df_links_crosses = spark_df.crossJoin(spark_df\\\n",
    "                                            .withColumnRenamed('Title', 'Title2')\n",
    "                                            .withColumnRenamed('Links', 'Links2'))\\\n",
    "                                 .sort(asc('Title'))\\\n",
    "                                 .persist()\n",
    "spark_df_links_crosses.show()"
   ]
  },
  {
   "cell_type": "code",
   "execution_count": 11,
   "metadata": {},
   "outputs": [],
   "source": [
    "jaccard = spark_df_links_crosses.rdd.map(lambda x: jaccard_similarity(x.Links, x.Links2)).collect()"
   ]
  },
  {
   "cell_type": "code",
   "execution_count": 12,
   "metadata": {},
   "outputs": [],
   "source": [
    "jaccard = np.array(jaccard).reshape(len(df_links), len(df_links))"
   ]
  },
  {
   "cell_type": "code",
   "execution_count": 13,
   "metadata": {},
   "outputs": [
    {
     "data": {
      "text/plain": [
       "(937, 937)"
      ]
     },
     "execution_count": 13,
     "metadata": {},
     "output_type": "execute_result"
    }
   ],
   "source": [
    "jaccard.shape"
   ]
  },
  {
   "cell_type": "code",
   "execution_count": 14,
   "metadata": {
    "scrolled": true
   },
   "outputs": [],
   "source": [
    "df_links['Jaccard'] = jaccard.tolist()"
   ]
  },
  {
   "cell_type": "code",
   "execution_count": 15,
   "metadata": {},
   "outputs": [],
   "source": [
    "df_links.to_csv(\"../data/df_links_sim.csv\")"
   ]
  },
  {
   "cell_type": "code",
   "execution_count": null,
   "metadata": {},
   "outputs": [],
   "source": []
  }
 ],
 "metadata": {
  "kernelspec": {
   "display_name": "Python [conda env:dataviz] *",
   "language": "python",
   "name": "conda-env-dataviz-py"
  },
  "language_info": {
   "codemirror_mode": {
    "name": "ipython",
    "version": 3
   },
   "file_extension": ".py",
   "mimetype": "text/x-python",
   "name": "python",
   "nbconvert_exporter": "python",
   "pygments_lexer": "ipython3",
   "version": "3.7.0"
  }
 },
 "nbformat": 4,
 "nbformat_minor": 4
}
