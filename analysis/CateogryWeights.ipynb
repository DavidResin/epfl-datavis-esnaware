{
 "cells": [
  {
   "cell_type": "markdown",
   "metadata": {},
   "source": [
    "# Load libraries and data"
   ]
  },
  {
   "cell_type": "code",
   "execution_count": 2,
   "metadata": {},
   "outputs": [],
   "source": [
    "import json\n",
    "\n",
    "import pandas as pd\n",
    "import numpy as np\n",
    "import networkx as nx\n",
    "import matplotlib.pyplot as plt"
   ]
  },
  {
   "cell_type": "code",
   "execution_count": 3,
   "metadata": {},
   "outputs": [],
   "source": [
    "depth = 12\n",
    "df = pd.read_json(f\"../data/wikipedia_depth_{depth}.json\").rename(columns={'Category': 'Path'})\n",
    "df['Category'] = df['Path'].apply(lambda x: x[-1])"
   ]
  },
  {
   "cell_type": "code",
   "execution_count": 4,
   "metadata": {},
   "outputs": [
    {
     "data": {
      "text/html": [
       "<div>\n",
       "<style scoped>\n",
       "    .dataframe tbody tr th:only-of-type {\n",
       "        vertical-align: middle;\n",
       "    }\n",
       "\n",
       "    .dataframe tbody tr th {\n",
       "        vertical-align: top;\n",
       "    }\n",
       "\n",
       "    .dataframe thead th {\n",
       "        text-align: right;\n",
       "    }\n",
       "</style>\n",
       "<table border=\"1\" class=\"dataframe\">\n",
       "  <thead>\n",
       "    <tr style=\"text-align: right;\">\n",
       "      <th></th>\n",
       "      <th>Title</th>\n",
       "      <th>Path</th>\n",
       "      <th>Links</th>\n",
       "      <th>Text</th>\n",
       "      <th>Category</th>\n",
       "    </tr>\n",
       "  </thead>\n",
       "  <tbody>\n",
       "    <tr>\n",
       "      <th>0</th>\n",
       "      <td>Climate emergency declaration</td>\n",
       "      <td>[Global_warming]</td>\n",
       "      <td>[Aachen, Acri, Adam Bandt, Adelaide, Alexandri...</td>\n",
       "      <td>A climate emergency declaration or declaring a...</td>\n",
       "      <td>Global_warming</td>\n",
       "    </tr>\n",
       "    <tr>\n",
       "      <th>1</th>\n",
       "      <td>Global warming</td>\n",
       "      <td>[Global_warming]</td>\n",
       "      <td>[Abrupt climate change, Absorption (electromag...</td>\n",
       "      <td>Global warming is the mainly human-caused rise...</td>\n",
       "      <td>Global_warming</td>\n",
       "    </tr>\n",
       "    <tr>\n",
       "      <th>2</th>\n",
       "      <td>Shared Socioeconomic Pathways</td>\n",
       "      <td>[Global_warming]</td>\n",
       "      <td>[Abrupt climate change, Albedo, Anoxic event, ...</td>\n",
       "      <td>Shared Socioeconomic Pathways (SSPs) are scena...</td>\n",
       "      <td>Global_warming</td>\n",
       "    </tr>\n",
       "    <tr>\n",
       "      <th>3</th>\n",
       "      <td>Glossary of climate change</td>\n",
       "      <td>[Global_warming]</td>\n",
       "      <td>[100,000-year problem, 20th parallel north, 37...</td>\n",
       "      <td>This glossary of climate change is a list of d...</td>\n",
       "      <td>Global_warming</td>\n",
       "    </tr>\n",
       "    <tr>\n",
       "      <th>4</th>\n",
       "      <td>Index of climate change articles</td>\n",
       "      <td>[Global_warming]</td>\n",
       "      <td>[100% renewable energy, 100,000-year problem, ...</td>\n",
       "      <td>This is a list of climate change topics.\\n\\n0-...</td>\n",
       "      <td>Global_warming</td>\n",
       "    </tr>\n",
       "  </tbody>\n",
       "</table>\n",
       "</div>"
      ],
      "text/plain": [
       "                              Title              Path  \\\n",
       "0     Climate emergency declaration  [Global_warming]   \n",
       "1                    Global warming  [Global_warming]   \n",
       "2     Shared Socioeconomic Pathways  [Global_warming]   \n",
       "3        Glossary of climate change  [Global_warming]   \n",
       "4  Index of climate change articles  [Global_warming]   \n",
       "\n",
       "                                               Links  \\\n",
       "0  [Aachen, Acri, Adam Bandt, Adelaide, Alexandri...   \n",
       "1  [Abrupt climate change, Absorption (electromag...   \n",
       "2  [Abrupt climate change, Albedo, Anoxic event, ...   \n",
       "3  [100,000-year problem, 20th parallel north, 37...   \n",
       "4  [100% renewable energy, 100,000-year problem, ...   \n",
       "\n",
       "                                                Text        Category  \n",
       "0  A climate emergency declaration or declaring a...  Global_warming  \n",
       "1  Global warming is the mainly human-caused rise...  Global_warming  \n",
       "2  Shared Socioeconomic Pathways (SSPs) are scena...  Global_warming  \n",
       "3  This glossary of climate change is a list of d...  Global_warming  \n",
       "4  This is a list of climate change topics.\\n\\n0-...  Global_warming  "
      ]
     },
     "execution_count": 4,
     "metadata": {},
     "output_type": "execute_result"
    }
   ],
   "source": [
    "df.head()"
   ]
  },
  {
   "cell_type": "code",
   "execution_count": 5,
   "metadata": {},
   "outputs": [],
   "source": [
    "subset = ['Methane', 'Extinction Rebellion', 'Fuel taxes', 'Hydraulic fracturing', 'Exxonmobil', 'Gazprom', \n",
    "          'Self-sustainability', 'Industrial ecology', 'Ecovillages', 'Eco-towns', 'Wildlife smuggling', \n",
    "          'Urban forestry', 'Biofuels', 'Sustainable gardening', 'Animal waste products', 'Oil platform disasters',\n",
    "          'Coal phase-out', 'Climate change denial', 'Building energy rating', 'Active fire protection', \n",
    "          'Industrial minerals', 'Composting', 'Reforestation']\n",
    "subset = [w.lower() for w in subset]"
   ]
  },
  {
   "cell_type": "code",
   "execution_count": 6,
   "metadata": {},
   "outputs": [
    {
     "data": {
      "text/plain": [
       "(937, 5)"
      ]
     },
     "execution_count": 6,
     "metadata": {},
     "output_type": "execute_result"
    }
   ],
   "source": [
    "df_subset = df[df['Category'].map(lambda x: x.lower()).isin(subset)].reset_index().drop(columns=['index'])\n",
    "df_subset.shape"
   ]
  },
  {
   "cell_type": "code",
   "execution_count": 7,
   "metadata": {},
   "outputs": [
    {
     "data": {
      "text/html": [
       "<div>\n",
       "<style scoped>\n",
       "    .dataframe tbody tr th:only-of-type {\n",
       "        vertical-align: middle;\n",
       "    }\n",
       "\n",
       "    .dataframe tbody tr th {\n",
       "        vertical-align: top;\n",
       "    }\n",
       "\n",
       "    .dataframe thead th {\n",
       "        text-align: right;\n",
       "    }\n",
       "</style>\n",
       "<table border=\"1\" class=\"dataframe\">\n",
       "  <thead>\n",
       "    <tr style=\"text-align: right;\">\n",
       "      <th></th>\n",
       "      <th>Title</th>\n",
       "      <th>Path</th>\n",
       "      <th>Links</th>\n",
       "      <th>Text</th>\n",
       "      <th>Category</th>\n",
       "    </tr>\n",
       "  </thead>\n",
       "  <tbody>\n",
       "    <tr>\n",
       "      <th>0</th>\n",
       "      <td>Climate change denial</td>\n",
       "      <td>[Global_warming, Climate change, Climate chang...</td>\n",
       "      <td>[2010 Russian wildfires, 2015 United Nations C...</td>\n",
       "      <td>Climate change denial, or global warming denia...</td>\n",
       "      <td>Climate change denial</td>\n",
       "    </tr>\n",
       "    <tr>\n",
       "      <th>1</th>\n",
       "      <td>Khabibullo Abdussamatov</td>\n",
       "      <td>[Global_warming, Climate change, Climate chang...</td>\n",
       "      <td>[Astrophysics, Bibcode, Cambridge University P...</td>\n",
       "      <td>Habibullo Ismailovich Abdussamatov (Russian: Х...</td>\n",
       "      <td>Climate change denial</td>\n",
       "    </tr>\n",
       "    <tr>\n",
       "      <th>2</th>\n",
       "      <td>Accuracy in Media</td>\n",
       "      <td>[Global_warming, Climate change, Climate chang...</td>\n",
       "      <td>[2012 Benghazi attack, Advocacy journalism, Ag...</td>\n",
       "      <td>Accuracy in Media (AIM) is an American non-pro...</td>\n",
       "      <td>Climate change denial</td>\n",
       "    </tr>\n",
       "    <tr>\n",
       "      <th>3</th>\n",
       "      <td>Robert Aderholt</td>\n",
       "      <td>[Global_warming, Climate change, Climate chang...</td>\n",
       "      <td>[105th United States Congress, 106th United St...</td>\n",
       "      <td>Robert Brown Aderholt (born July 22, 1965) is ...</td>\n",
       "      <td>Climate change denial</td>\n",
       "    </tr>\n",
       "    <tr>\n",
       "      <th>4</th>\n",
       "      <td>Jerry Agar</td>\n",
       "      <td>[Global_warming, Climate change, Climate chang...</td>\n",
       "      <td>[CFRB, Chicago, Disc jockey, G. Gordon Liddy, ...</td>\n",
       "      <td>Jerry Agar is a conservative talk radio person...</td>\n",
       "      <td>Climate change denial</td>\n",
       "    </tr>\n",
       "  </tbody>\n",
       "</table>\n",
       "</div>"
      ],
      "text/plain": [
       "                     Title                                               Path  \\\n",
       "0    Climate change denial  [Global_warming, Climate change, Climate chang...   \n",
       "1  Khabibullo Abdussamatov  [Global_warming, Climate change, Climate chang...   \n",
       "2        Accuracy in Media  [Global_warming, Climate change, Climate chang...   \n",
       "3          Robert Aderholt  [Global_warming, Climate change, Climate chang...   \n",
       "4               Jerry Agar  [Global_warming, Climate change, Climate chang...   \n",
       "\n",
       "                                               Links  \\\n",
       "0  [2010 Russian wildfires, 2015 United Nations C...   \n",
       "1  [Astrophysics, Bibcode, Cambridge University P...   \n",
       "2  [2012 Benghazi attack, Advocacy journalism, Ag...   \n",
       "3  [105th United States Congress, 106th United St...   \n",
       "4  [CFRB, Chicago, Disc jockey, G. Gordon Liddy, ...   \n",
       "\n",
       "                                                Text               Category  \n",
       "0  Climate change denial, or global warming denia...  Climate change denial  \n",
       "1  Habibullo Ismailovich Abdussamatov (Russian: Х...  Climate change denial  \n",
       "2  Accuracy in Media (AIM) is an American non-pro...  Climate change denial  \n",
       "3  Robert Brown Aderholt (born July 22, 1965) is ...  Climate change denial  \n",
       "4  Jerry Agar is a conservative talk radio person...  Climate change denial  "
      ]
     },
     "execution_count": 7,
     "metadata": {},
     "output_type": "execute_result"
    }
   ],
   "source": [
    "df_subset.head()"
   ]
  },
  {
   "cell_type": "code",
   "execution_count": null,
   "metadata": {},
   "outputs": [],
   "source": []
  }
 ],
 "metadata": {
  "kernelspec": {
   "display_name": "Python [conda env:dataviz] *",
   "language": "python",
   "name": "conda-env-dataviz-py"
  },
  "language_info": {
   "codemirror_mode": {
    "name": "ipython",
    "version": 3
   },
   "file_extension": ".py",
   "mimetype": "text/x-python",
   "name": "python",
   "nbconvert_exporter": "python",
   "pygments_lexer": "ipython3",
   "version": "3.7.0"
  }
 },
 "nbformat": 4,
 "nbformat_minor": 4
}
