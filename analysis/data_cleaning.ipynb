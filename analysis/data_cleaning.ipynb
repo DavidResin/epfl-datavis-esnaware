{
 "cells": [
  {
   "cell_type": "code",
   "execution_count": 9,
   "metadata": {},
   "outputs": [],
   "source": [
    "import re\n",
    "\n",
    "import pandas as pd\n",
    "import numpy as np"
   ]
  },
  {
   "cell_type": "code",
   "execution_count": 10,
   "metadata": {},
   "outputs": [],
   "source": [
    "depth = 12\n",
    "df = pd.read_json(f\"../data/wikipedia_depth_{depth}.json\").rename(columns={'Category': 'Path'})\n",
    "df['Category'] = df['Path'].apply(lambda x: x[-1])"
   ]
  },
  {
   "cell_type": "code",
   "execution_count": 11,
   "metadata": {},
   "outputs": [
    {
     "name": "stdout",
     "output_type": "stream",
     "text": [
      "Number of unique articles: 25593\n"
     ]
    }
   ],
   "source": [
    "flatten = lambda l: [item for sublist in l for item in sublist]\n",
    "\n",
    "df_unique = df.groupby('Title').agg(list).reset_index()\n",
    "df_unique['Links'] = df_unique['Links'].apply(flatten).apply(np.unique)\n",
    "df_unique['Text'] = df_unique['Text'].apply(lambda x: list(set(x))[0])\n",
    "print(\"Number of unique articles:\", len(df_unique))"
   ]
  },
  {
   "cell_type": "code",
   "execution_count": 12,
   "metadata": {},
   "outputs": [
    {
     "data": {
      "text/plain": [
       "(937, 5)"
      ]
     },
     "execution_count": 12,
     "metadata": {},
     "output_type": "execute_result"
    }
   ],
   "source": [
    "subset = ['Methane', 'Extinction Rebellion', 'Fuel taxes', 'Hydraulic fracturing', 'Exxonmobil', 'Gazprom', \n",
    "          'Self-sustainability', 'Industrial ecology', 'Ecovillages', 'Eco-towns', 'Wildlife smuggling', \n",
    "          'Urban forestry', 'Biofuels', 'Sustainable gardening', 'Animal waste products', 'Oil platform disasters',\n",
    "          'Coal phase-out', 'Climate change denial', 'Building energy rating', 'Active fire protection', \n",
    "          'Industrial minerals', 'Composting', 'Reforestation']\n",
    "subset = [w.lower() for w in subset]\n",
    "\n",
    "df_subset = df[df['Category'].map(lambda x: x.lower()).isin(subset)].reset_index().drop(columns=['index'])\n",
    "df_subset['Text'] = df_subset['Text'].apply(lambda x: re.sub('\\n', '. ', x))\n",
    "df_subset.shape"
   ]
  },
  {
   "cell_type": "code",
   "execution_count": 13,
   "metadata": {},
   "outputs": [
    {
     "data": {
      "text/plain": [
       "0    climate change denial, or global warming denia...\n",
       "1    habibullo ismailovich abdussamatov (russian: х...\n",
       "2    accuracy in media (aim) is an american non-pro...\n",
       "3    robert brown aderholt (born july 22, 1965) is ...\n",
       "4    jerry agar is a conservative talk radio person...\n",
       "Name: Text_processed, dtype: object"
      ]
     },
     "execution_count": 13,
     "metadata": {},
     "output_type": "execute_result"
    }
   ],
   "source": [
    "# Remove punctuation\n",
    "df_subset['Text_processed'] = df_subset['Text'].map(lambda x: re.sub('[,\\.!?]', '', x))\n",
    "df_subset['Text_processed'] = df_subset['Text'].map(lambda x: x.lower())\n",
    "df_subset['Text_processed'].head()"
   ]
  },
  {
   "cell_type": "code",
   "execution_count": 14,
   "metadata": {},
   "outputs": [],
   "source": [
    "df_subset.to_pickle(\"../data/df_subset.pkl\")"
   ]
  },
  {
   "cell_type": "code",
   "execution_count": null,
   "metadata": {},
   "outputs": [],
   "source": []
  }
 ],
 "metadata": {
  "kernelspec": {
   "display_name": "Python [conda env:dataviz] *",
   "language": "python",
   "name": "conda-env-dataviz-py"
  },
  "language_info": {
   "codemirror_mode": {
    "name": "ipython",
    "version": 3
   },
   "file_extension": ".py",
   "mimetype": "text/x-python",
   "name": "python",
   "nbconvert_exporter": "python",
   "pygments_lexer": "ipython3",
   "version": "3.7.0"
  }
 },
 "nbformat": 4,
 "nbformat_minor": 4
}
