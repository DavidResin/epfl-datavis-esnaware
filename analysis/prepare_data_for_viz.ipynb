{
 "cells": [
  {
   "cell_type": "code",
   "execution_count": 1,
   "metadata": {},
   "outputs": [],
   "source": [
    "import ast\n",
    "import json\n",
    "import pandas as pd"
   ]
  },
  {
   "cell_type": "code",
   "execution_count": 2,
   "metadata": {},
   "outputs": [],
   "source": [
    "df_category = pd.read_csv(\"../data/df_category_sim.csv\").drop(columns=['Unnamed: 0'])\n",
    "df_links = pd.read_csv(\"../data/df_links_sim.csv\").drop(columns=['Unnamed: 0'])\n",
    "df_lda = pd.read_csv(\"../data/df_lda_sims.csv\").drop(columns=['Unnamed: 0'])"
   ]
  },
  {
   "cell_type": "code",
   "execution_count": 3,
   "metadata": {},
   "outputs": [
    {
     "data": {
      "text/html": [
       "<div>\n",
       "<style scoped>\n",
       "    .dataframe tbody tr th:only-of-type {\n",
       "        vertical-align: middle;\n",
       "    }\n",
       "\n",
       "    .dataframe tbody tr th {\n",
       "        vertical-align: top;\n",
       "    }\n",
       "\n",
       "    .dataframe thead th {\n",
       "        text-align: right;\n",
       "    }\n",
       "</style>\n",
       "<table border=\"1\" class=\"dataframe\">\n",
       "  <thead>\n",
       "    <tr style=\"text-align: right;\">\n",
       "      <th></th>\n",
       "      <th>Title</th>\n",
       "      <th>Path</th>\n",
       "      <th>Jaccard</th>\n",
       "    </tr>\n",
       "  </thead>\n",
       "  <tbody>\n",
       "    <tr>\n",
       "      <th>0</th>\n",
       "      <td>2,5-Dimethylfuran</td>\n",
       "      <td>['Global_warming', 'Climate change', 'Politics...</td>\n",
       "      <td>[1.0, 1.0, 1.0, 0.7142857142857143, 0.14285714...</td>\n",
       "    </tr>\n",
       "    <tr>\n",
       "      <th>1</th>\n",
       "      <td>2-Methylfuran</td>\n",
       "      <td>['Global_warming', 'Climate change', 'Politics...</td>\n",
       "      <td>[1.0, 1.0, 1.0, 0.7142857142857143, 0.14285714...</td>\n",
       "    </tr>\n",
       "    <tr>\n",
       "      <th>2</th>\n",
       "      <td>2007–08 world food price crisis</td>\n",
       "      <td>['Global_warming', 'Climate change', 'Politics...</td>\n",
       "      <td>[1.0, 1.0, 1.0, 0.7142857142857143, 0.14285714...</td>\n",
       "    </tr>\n",
       "    <tr>\n",
       "      <th>3</th>\n",
       "      <td>ASEAN Wildlife Enforcement Network</td>\n",
       "      <td>['Global_warming', 'Climate change', 'Politics...</td>\n",
       "      <td>[0.7142857142857143, 0.7142857142857143, 0.714...</td>\n",
       "    </tr>\n",
       "    <tr>\n",
       "      <th>4</th>\n",
       "      <td>Accuracy in Media</td>\n",
       "      <td>['Global_warming', 'Climate change', 'Climate ...</td>\n",
       "      <td>[0.14285714285714285, 0.14285714285714285, 0.1...</td>\n",
       "    </tr>\n",
       "  </tbody>\n",
       "</table>\n",
       "</div>"
      ],
      "text/plain": [
       "                                Title  \\\n",
       "0                   2,5-Dimethylfuran   \n",
       "1                       2-Methylfuran   \n",
       "2     2007–08 world food price crisis   \n",
       "3  ASEAN Wildlife Enforcement Network   \n",
       "4                   Accuracy in Media   \n",
       "\n",
       "                                                Path  \\\n",
       "0  ['Global_warming', 'Climate change', 'Politics...   \n",
       "1  ['Global_warming', 'Climate change', 'Politics...   \n",
       "2  ['Global_warming', 'Climate change', 'Politics...   \n",
       "3  ['Global_warming', 'Climate change', 'Politics...   \n",
       "4  ['Global_warming', 'Climate change', 'Climate ...   \n",
       "\n",
       "                                             Jaccard  \n",
       "0  [1.0, 1.0, 1.0, 0.7142857142857143, 0.14285714...  \n",
       "1  [1.0, 1.0, 1.0, 0.7142857142857143, 0.14285714...  \n",
       "2  [1.0, 1.0, 1.0, 0.7142857142857143, 0.14285714...  \n",
       "3  [0.7142857142857143, 0.7142857142857143, 0.714...  \n",
       "4  [0.14285714285714285, 0.14285714285714285, 0.1...  "
      ]
     },
     "execution_count": 3,
     "metadata": {},
     "output_type": "execute_result"
    }
   ],
   "source": [
    "df_category.head()"
   ]
  },
  {
   "cell_type": "code",
   "execution_count": 4,
   "metadata": {},
   "outputs": [
    {
     "data": {
      "text/html": [
       "<div>\n",
       "<style scoped>\n",
       "    .dataframe tbody tr th:only-of-type {\n",
       "        vertical-align: middle;\n",
       "    }\n",
       "\n",
       "    .dataframe tbody tr th {\n",
       "        vertical-align: top;\n",
       "    }\n",
       "\n",
       "    .dataframe thead th {\n",
       "        text-align: right;\n",
       "    }\n",
       "</style>\n",
       "<table border=\"1\" class=\"dataframe\">\n",
       "  <thead>\n",
       "    <tr style=\"text-align: right;\">\n",
       "      <th></th>\n",
       "      <th>Title</th>\n",
       "      <th>Links</th>\n",
       "      <th>Jaccard</th>\n",
       "    </tr>\n",
       "  </thead>\n",
       "  <tbody>\n",
       "    <tr>\n",
       "      <th>0</th>\n",
       "      <td>2,5-Dimethylfuran</td>\n",
       "      <td>['2,5-Dimethylfuran (data page)', 'Aqueous sol...</td>\n",
       "      <td>[1.0, 0.24719101123595505, 0.01578947368421052...</td>\n",
       "    </tr>\n",
       "    <tr>\n",
       "      <th>1</th>\n",
       "      <td>2-Methylfuran</td>\n",
       "      <td>['2-Methylfuran (data page)', 'Alternative fue...</td>\n",
       "      <td>[0.24719101123595505, 1.0, 0.00295857988165680...</td>\n",
       "    </tr>\n",
       "    <tr>\n",
       "      <th>2</th>\n",
       "      <td>2007–08 world food price crisis</td>\n",
       "      <td>['2000s commodities boom', '2000s energy crisi...</td>\n",
       "      <td>[0.015789473684210527, 0.0029585798816568047, ...</td>\n",
       "    </tr>\n",
       "    <tr>\n",
       "      <th>3</th>\n",
       "      <td>ASEAN Wildlife Enforcement Network</td>\n",
       "      <td>['ASEAN', 'ASEAN Center for Biodiversity', 'As...</td>\n",
       "      <td>[0.0, 0.0, 0.007894736842105263, 1.0, 0.014150...</td>\n",
       "    </tr>\n",
       "    <tr>\n",
       "      <th>4</th>\n",
       "      <td>Accuracy in Media</td>\n",
       "      <td>['2012 Benghazi attack', 'Advocacy journalism'...</td>\n",
       "      <td>[0.009259259259259259, 0.0058823529411764705, ...</td>\n",
       "    </tr>\n",
       "  </tbody>\n",
       "</table>\n",
       "</div>"
      ],
      "text/plain": [
       "                                Title  \\\n",
       "0                   2,5-Dimethylfuran   \n",
       "1                       2-Methylfuran   \n",
       "2     2007–08 world food price crisis   \n",
       "3  ASEAN Wildlife Enforcement Network   \n",
       "4                   Accuracy in Media   \n",
       "\n",
       "                                               Links  \\\n",
       "0  ['2,5-Dimethylfuran (data page)', 'Aqueous sol...   \n",
       "1  ['2-Methylfuran (data page)', 'Alternative fue...   \n",
       "2  ['2000s commodities boom', '2000s energy crisi...   \n",
       "3  ['ASEAN', 'ASEAN Center for Biodiversity', 'As...   \n",
       "4  ['2012 Benghazi attack', 'Advocacy journalism'...   \n",
       "\n",
       "                                             Jaccard  \n",
       "0  [1.0, 0.24719101123595505, 0.01578947368421052...  \n",
       "1  [0.24719101123595505, 1.0, 0.00295857988165680...  \n",
       "2  [0.015789473684210527, 0.0029585798816568047, ...  \n",
       "3  [0.0, 0.0, 0.007894736842105263, 1.0, 0.014150...  \n",
       "4  [0.009259259259259259, 0.0058823529411764705, ...  "
      ]
     },
     "execution_count": 4,
     "metadata": {},
     "output_type": "execute_result"
    }
   ],
   "source": [
    "df_links.head()"
   ]
  },
  {
   "cell_type": "code",
   "execution_count": 5,
   "metadata": {},
   "outputs": [
    {
     "data": {
      "text/html": [
       "<div>\n",
       "<style scoped>\n",
       "    .dataframe tbody tr th:only-of-type {\n",
       "        vertical-align: middle;\n",
       "    }\n",
       "\n",
       "    .dataframe tbody tr th {\n",
       "        vertical-align: top;\n",
       "    }\n",
       "\n",
       "    .dataframe thead th {\n",
       "        text-align: right;\n",
       "    }\n",
       "</style>\n",
       "<table border=\"1\" class=\"dataframe\">\n",
       "  <thead>\n",
       "    <tr style=\"text-align: right;\">\n",
       "      <th></th>\n",
       "      <th>Title</th>\n",
       "      <th>Text_processed</th>\n",
       "      <th>Dominant Topic</th>\n",
       "      <th>Sims</th>\n",
       "    </tr>\n",
       "  </thead>\n",
       "  <tbody>\n",
       "    <tr>\n",
       "      <th>0</th>\n",
       "      <td>2,5-Dimethylfuran</td>\n",
       "      <td>2,5-dimethylfuran is a heterocyclic compound w...</td>\n",
       "      <td>40</td>\n",
       "      <td>[1.0000000000000002, 0.6208810150204145, 0.029...</td>\n",
       "    </tr>\n",
       "    <tr>\n",
       "      <th>1</th>\n",
       "      <td>2-Methylfuran</td>\n",
       "      <td>2-methylfuran, also known with the older name ...</td>\n",
       "      <td>20</td>\n",
       "      <td>[0.6208810150204145, 1.0000000000000024, 0.001...</td>\n",
       "    </tr>\n",
       "    <tr>\n",
       "      <th>2</th>\n",
       "      <td>2007–08 world food price crisis</td>\n",
       "      <td>world food prices increased dramatically in 20...</td>\n",
       "      <td>39</td>\n",
       "      <td>[0.02914683177495991, 0.0016481418417907804, 0...</td>\n",
       "    </tr>\n",
       "    <tr>\n",
       "      <th>3</th>\n",
       "      <td>ASEAN Wildlife Enforcement Network</td>\n",
       "      <td>the asean wildlife enforcement network (asean-...</td>\n",
       "      <td>3</td>\n",
       "      <td>[0.00047928602761282814, 0.002529903057432023,...</td>\n",
       "    </tr>\n",
       "    <tr>\n",
       "      <th>4</th>\n",
       "      <td>Accuracy in Media</td>\n",
       "      <td>accuracy in media (aim) is an american non-pro...</td>\n",
       "      <td>21</td>\n",
       "      <td>[0.0005204638786978396, 0.0024441338682554127,...</td>\n",
       "    </tr>\n",
       "  </tbody>\n",
       "</table>\n",
       "</div>"
      ],
      "text/plain": [
       "                                Title  \\\n",
       "0                   2,5-Dimethylfuran   \n",
       "1                       2-Methylfuran   \n",
       "2     2007–08 world food price crisis   \n",
       "3  ASEAN Wildlife Enforcement Network   \n",
       "4                   Accuracy in Media   \n",
       "\n",
       "                                      Text_processed  Dominant Topic  \\\n",
       "0  2,5-dimethylfuran is a heterocyclic compound w...              40   \n",
       "1  2-methylfuran, also known with the older name ...              20   \n",
       "2  world food prices increased dramatically in 20...              39   \n",
       "3  the asean wildlife enforcement network (asean-...               3   \n",
       "4  accuracy in media (aim) is an american non-pro...              21   \n",
       "\n",
       "                                                Sims  \n",
       "0  [1.0000000000000002, 0.6208810150204145, 0.029...  \n",
       "1  [0.6208810150204145, 1.0000000000000024, 0.001...  \n",
       "2  [0.02914683177495991, 0.0016481418417907804, 0...  \n",
       "3  [0.00047928602761282814, 0.002529903057432023,...  \n",
       "4  [0.0005204638786978396, 0.0024441338682554127,...  "
      ]
     },
     "execution_count": 5,
     "metadata": {},
     "output_type": "execute_result"
    }
   ],
   "source": [
    "df_lda.head()"
   ]
  },
  {
   "cell_type": "code",
   "execution_count": 6,
   "metadata": {},
   "outputs": [],
   "source": [
    "df_category['Jaccard'] = df_category['Jaccard'].apply(lambda x: ast.literal_eval(x))\n",
    "df_links['Jaccard'] = df_links['Jaccard'].apply(lambda x: ast.literal_eval(x))\n",
    "df_lda['Sims'] = df_lda['Sims'].apply(lambda x: ast.literal_eval(x))"
   ]
  },
  {
   "cell_type": "code",
   "execution_count": 7,
   "metadata": {},
   "outputs": [
    {
     "data": {
      "text/plain": [
       "1.0"
      ]
     },
     "execution_count": 7,
     "metadata": {},
     "output_type": "execute_result"
    }
   ],
   "source": [
    "df_category['Jaccard'].iloc[0][0]"
   ]
  },
  {
   "cell_type": "code",
   "execution_count": 16,
   "metadata": {},
   "outputs": [],
   "source": [
    "data_stories = ['Methane', 'Global methane initiative', 'Methane emissions', 'Fugitive gas emissions',\n",
    "                'Hydraulic fracturing', 'Environmental impact of hydraulic fracturing', 'Renewable natural gas', \n",
    "                'Biogas', 'Biofuel', 'Climate change denial', 'Fossil fuels lobby', 'Politics of global warming', \n",
    "                'Wood gas', 'Afforestation', 'Reforestation', 'Reducing emissions from deforestation and forest degradation',\n",
    "                'Pollution prevention', 'Politics of global warming', 'Green economy', 'Environmental economics', 'Charcoal', \n",
    "                'Groundwater recharge', 'Green New Deal']"
   ]
  },
  {
   "cell_type": "code",
   "execution_count": 17,
   "metadata": {},
   "outputs": [],
   "source": [
    "causes = ['Methane emissions', 'Hydraulic fracturing', 'Media coverage of global warming', 'Fossil fuels lobby']\n",
    "consequences = ['Environmental impact of hydraulic fracturing', 'Environmental impact of hydraulic fracturing',\n",
    "                'Climate change denial', 'Climate change denial']\n",
    "problems = ['Methane emissions', 'Methane emissions', 'Methane emissions', 'Climate change denial']\n",
    "solutions = ['Renewable natural gas', 'Biogas', 'Biofuel', 'Scientific consensus on climate change']"
   ]
  },
  {
   "cell_type": "code",
   "execution_count": 18,
   "metadata": {},
   "outputs": [],
   "source": [
    "cc_relations = [(causes[i], consequences[i]) for i in range(len(causes))]\n",
    "# cc_relations.extend([(consequences[i], causes[i]) for i in range(len(causes))])\n",
    "ps_relations = [(problems[i], solutions[i]) for i in range(len(problems))]\n",
    "# ps_relations.extend([(problems[i], solutions[i]) for i in range(len(problems))])"
   ]
  },
  {
   "cell_type": "code",
   "execution_count": 25,
   "metadata": {},
   "outputs": [
    {
     "data": {
      "text/plain": [
       "4"
      ]
     },
     "execution_count": 25,
     "metadata": {},
     "output_type": "execute_result"
    }
   ],
   "source": [
    "len(cc_relations)"
   ]
  },
  {
   "cell_type": "code",
   "execution_count": 26,
   "metadata": {},
   "outputs": [
    {
     "data": {
      "text/plain": [
       "4"
      ]
     },
     "execution_count": 26,
     "metadata": {},
     "output_type": "execute_result"
    }
   ],
   "source": [
    "len(ps_relations)"
   ]
  },
  {
   "cell_type": "code",
   "execution_count": 19,
   "metadata": {},
   "outputs": [],
   "source": [
    "data = {'nodes': [], 'links': []}"
   ]
  },
  {
   "cell_type": "code",
   "execution_count": 20,
   "metadata": {},
   "outputs": [],
   "source": [
    "for i in range(len(df_lda)):\n",
    "    title = df_lda['Title'].iloc[i]\n",
    "    data['nodes'].append({'id': str(i), 'label': title})\n",
    "    \n",
    "    lda = df_lda['Sims'].iloc[i]\n",
    "    cat = df_category['Jaccard'].iloc[i]\n",
    "    links = df_links['Jaccard'].iloc[i]\n",
    "    \n",
    "    for j in range(len(df_lda)):\n",
    "        if i != j and j > i:\n",
    "            title2 = df_lda['Title'].iloc[j]\n",
    "            \n",
    "            if (title, title2) in cc_relations or (title2, title) in cc_relations:\n",
    "                link_type = 'cc'\n",
    "            elif (title, title2) in ps_relations or (title2, title) in ps_relations:\n",
    "                link_type = 'ps'\n",
    "            else:\n",
    "                link_type = 'na'\n",
    "            \n",
    "            data['links'].append({\n",
    "                'source': str(i),\n",
    "                'target': str(j),\n",
    "                'type': link_type,\n",
    "                'w_lda': lda[j],\n",
    "                'w_cat': cat[j],\n",
    "                'w_links': links[j]\n",
    "            })"
   ]
  },
  {
   "cell_type": "code",
   "execution_count": 27,
   "metadata": {},
   "outputs": [
    {
     "data": {
      "text/plain": [
       "9"
      ]
     },
     "execution_count": 27,
     "metadata": {},
     "output_type": "execute_result"
    }
   ],
   "source": [
    "len([link for link in data['links'] if link['type'] != 'na'])"
   ]
  },
  {
   "cell_type": "code",
   "execution_count": 28,
   "metadata": {},
   "outputs": [],
   "source": [
    "with open(\"../data/data_viz.json\", 'w+', encoding='utf-8') as f:\n",
    "    json.dump(data, f, indent='\\t')"
   ]
  },
  {
   "cell_type": "code",
   "execution_count": null,
   "metadata": {},
   "outputs": [],
   "source": []
  }
 ],
 "metadata": {
  "kernelspec": {
   "display_name": "Python [conda env:dataviz] *",
   "language": "python",
   "name": "conda-env-dataviz-py"
  },
  "language_info": {
   "codemirror_mode": {
    "name": "ipython",
    "version": 3
   },
   "file_extension": ".py",
   "mimetype": "text/x-python",
   "name": "python",
   "nbconvert_exporter": "python",
   "pygments_lexer": "ipython3",
   "version": "3.7.0"
  }
 },
 "nbformat": 4,
 "nbformat_minor": 4
}
