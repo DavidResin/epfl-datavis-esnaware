{
 "cells": [
  {
   "cell_type": "code",
   "execution_count": 6,
   "metadata": {},
   "outputs": [],
   "source": [
    "import re\n",
    "import spacy\n",
    "\n",
    "import pandas as pd\n",
    "import numpy as np\n",
    "\n",
    "nlp = spacy.load(\"en_core_web_sm\", disable=['parser', 'ner'])"
   ]
  },
  {
   "cell_type": "code",
   "execution_count": 2,
   "metadata": {},
   "outputs": [],
   "source": [
    "df_subset = pd.read_pickle(\"../data/df_subset.pkl\")"
   ]
  },
  {
   "cell_type": "code",
   "execution_count": 3,
   "metadata": {},
   "outputs": [],
   "source": [
    "causal_terms = ['consequently', 'as a result', 'therefore', 'as a consequence', 'for this reason', 'for all these reasons', 'thus', 'because',\n",
    "                'since', 'because of', 'on account of', 'due to', 'for the reason', 'so, that']\n",
    "causal_verbs = ['Permit', 'Make', 'Cause', 'Generate','Allow', 'Wash', 'Affect', 'Cut', 'Change', 'Encourage', 'Develop', 'Force', 'Let', 'Convert', 'Derive', 'Arouse',\n",
    "                'Criticize', 'Alter', 'Create', 'Extend']\n",
    "causal_terms = [term.lower() for term in causal_terms]\n",
    "causal_verbs = [term.lower() for term in causal_verbs]"
   ]
  },
  {
   "cell_type": "code",
   "execution_count": 4,
   "metadata": {},
   "outputs": [],
   "source": [
    "def causal_relation(text):\n",
    "    result = []\n",
    "    for sent in text.split(\". \"):\n",
    "        doc = nlp(sent)\n",
    "        new_sent = []\n",
    "        if any(token.text in causal_terms or (token.pos_ == 'VERB' and token.lemma_ in causal_verbs) for token in doc):\n",
    "            result.append(sent)\n",
    "    return result"
   ]
  },
  {
   "cell_type": "code",
   "execution_count": 7,
   "metadata": {
    "scrolled": true
   },
   "outputs": [],
   "source": [
    "df_subset['Causal relations'] = df_subset['Text'].apply(lambda x: causal_relation(x))"
   ]
  },
  {
   "cell_type": "code",
   "execution_count": 9,
   "metadata": {},
   "outputs": [
    {
     "data": {
      "text/plain": [
       "Title                                    American Petroleum Institute\n",
       "Path                [Global_warming, Climate change, Climate chang...\n",
       "Links               [1967 Oil Embargo, 1973 oil crisis, 1979 energ...\n",
       "Text                The American Petroleum Institute (API) is the ...\n",
       "Category                                        Climate change denial\n",
       "Text_processed      the american petroleum institute (api) is the ...\n",
       "Causal relations    [Edward Teller explained that carbon dioxide \"...\n",
       "Name: 8, dtype: object"
      ]
     },
     "execution_count": 9,
     "metadata": {},
     "output_type": "execute_result"
    }
   ],
   "source": [
    "df_subset['Causal relations'].iloc[8]"
   ]
  },
  {
   "cell_type": "code",
   "execution_count": 10,
   "metadata": {},
   "outputs": [],
   "source": [
    "df_subset.to_pickle(\"../data/df_subset.pkl\")"
   ]
  },
  {
   "cell_type": "code",
   "execution_count": null,
   "metadata": {},
   "outputs": [],
   "source": []
  }
 ],
 "metadata": {
  "kernelspec": {
   "display_name": "Python [conda env:dataviz] *",
   "language": "python",
   "name": "conda-env-dataviz-py"
  },
  "language_info": {
   "codemirror_mode": {
    "name": "ipython",
    "version": 3
   },
   "file_extension": ".py",
   "mimetype": "text/x-python",
   "name": "python",
   "nbconvert_exporter": "python",
   "pygments_lexer": "ipython3",
   "version": "3.7.0"
  }
 },
 "nbformat": 4,
 "nbformat_minor": 4
}
