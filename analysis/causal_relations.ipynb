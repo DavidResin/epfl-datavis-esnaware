{
 "cells": [
  {
   "cell_type": "code",
   "execution_count": null,
   "metadata": {},
   "outputs": [],
   "source": [
    "import re\n",
    "import spacy\n",
    "\n",
    "import pandas as pd\n",
    "import numpy as np"
   ]
  },
  {
   "cell_type": "code",
   "execution_count": null,
   "metadata": {},
   "outputs": [],
   "source": [
    "df_subset = pd.read_pickle(\"../data/df_subset.pkl\")"
   ]
  },
  {
   "cell_type": "code",
   "execution_count": null,
   "metadata": {},
   "outputs": [],
   "source": [
    "causal_terms = ['consequently', 'as a result', 'therefore', 'as a consequence', 'for this reason', 'for all these reasons', 'thus', 'because',\n",
    "                'since', 'because of', 'on account of', 'due to', 'for the reason', 'so, that']\n",
    "causal_verbs = ['Permit', 'Make', 'Cause', 'Generate','Allow', 'Wash', 'Affect', 'Cut', 'Change', 'Encourage', 'Develop', 'Force', 'Let', 'Convert', 'Derive', 'Arouse',\n",
    "                'Criticize', 'Alter', 'Create', 'Extend']\n",
    "causal_terms = [term.lower() for term in causal_terms]\n",
    "causal_verbs = [term.lower() for term in causal_verbs]"
   ]
  },
  {
   "cell_type": "code",
   "execution_count": null,
   "metadata": {},
   "outputs": [],
   "source": [
    "def causal_relation(text):\n",
    "    result = []\n",
    "    for sent in text.split(\". \"):\n",
    "        doc = nlp(sent)\n",
    "        new_sent = []\n",
    "        if any(token.text in causal_terms or (token.pos_ == 'VERB' and token.lemma_ in causal_verbs) for token in doc):\n",
    "            result.append(sent)\n",
    "    return result"
   ]
  },
  {
   "cell_type": "code",
   "execution_count": null,
   "metadata": {},
   "outputs": [],
   "source": [
    "df_subset['Causal_relations'] = df_subset['Text'].apply(lambda x: causal_relation(x))"
   ]
  },
  {
   "cell_type": "code",
   "execution_count": null,
   "metadata": {},
   "outputs": [],
   "source": [
    "df_subset['Causal_relations'].iloc[8]"
   ]
  }
 ],
 "metadata": {
  "kernelspec": {
   "display_name": "Python [conda env:dataviz] *",
   "language": "python",
   "name": "conda-env-dataviz-py"
  },
  "language_info": {
   "codemirror_mode": {
    "name": "ipython",
    "version": 3
   },
   "file_extension": ".py",
   "mimetype": "text/x-python",
   "name": "python",
   "nbconvert_exporter": "python",
   "pygments_lexer": "ipython3",
   "version": "3.7.0"
  }
 },
 "nbformat": 4,
 "nbformat_minor": 4
}
